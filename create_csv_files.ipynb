{
 "cells": [
  {
   "cell_type": "code",
   "execution_count": 21,
   "metadata": {},
   "outputs": [],
   "source": [
    "import os\n",
    "import pandas as pd"
   ]
  },
  {
   "cell_type": "code",
   "execution_count": 22,
   "metadata": {},
   "outputs": [],
   "source": [
    "def remove_non_video_files(directory_contents):\n",
    "    for file in directory_contents:\n",
    "        if file[-3:] not in ['mov','mp4','avi']:\n",
    "            #print(\"File removed: \", file)\n",
    "            directory_contents.remove(file)\n",
    "    return directory_contents"
   ]
  },
  {
   "cell_type": "code",
   "execution_count": 27,
   "metadata": {},
   "outputs": [],
   "source": [
    "root_dir = \"/Users/amankumar/Work/ECE_699/dataset_new/train\"\n",
    "output_file_name = 'annotations.csv'\n",
    "# classes = [entry.name for entry in os.scandir(root_dir) if entry.is_dir()]\n",
    "# if not classes:\n",
    "#     raise FileNotFoundError(f\"Couldn't find any class folder in {root_dir}.\")\n",
    "\n",
    "# class_to_idx = {cls_name: i for i, cls_name in enumerate(classes)}\n",
    "classes = ['hand_waving', 'pointing', 'other']\n",
    "class_to_idx = {\n",
    "    'hand_waving': 0,\n",
    "    'pointing': 1,\n",
    "    'other': 2\n",
    "}"
   ]
  },
  {
   "cell_type": "code",
   "execution_count": 30,
   "metadata": {},
   "outputs": [
    {
     "name": "stdout",
     "output_type": "stream",
     "text": [
      "Number of Files detected in hand_waving: 74 || ['Wave_20231211_part_2.mp4', 'Wave_20231211_part_3.mp4', 'Wave-Complex_20231211_part_18.mp4', 'Wave_20231211_part_1.mp4', 'Wave-Complex_20231211_part_19.mp4', 'Wave_20231211_part_18.mp4', 'Wave_20231211_part_4.mp4', 'Wave_20231211_part_5.mp4', 'Wave-Complex_20231211_part_20.mp4', 'Wave_20231211_part_19.mp4', 'Wave_20231211_part_7.mp4', 'Wave_20231211_part_6.mp4', 'Wave_b2_20231211_part_8.mp4', 'Wave_b2_20231211_part_20.mp4', 'Wave_b2_20231211_part_34.mp4', 'Wave_b2_20231211_part_35.mp4', 'Wave_b2_20231211_part_21.mp4', 'Wave_b2_20231211_part_9.mp4', 'Wave_b2_20231211_part_23.mp4', 'Wave_b2_20231211_part_22.mp4', 'Wave_b2_20231211_part_32.mp4', 'Wave_b2_20231211_part_26.mp4', 'Wave_b2_20231211_part_27.mp4', 'Wave_b2_20231211_part_33.mp4', 'Wave_b2_20231211_part_25.mp4', 'Wave_b2_20231211_part_31.mp4', 'Wave_b2_20231211_part_19.mp4', 'Wave-Complex_20231211_part_9.mp4', 'Wave-Complex_20231211_part_8.mp4', 'Wave_b2_20231211_part_18.mp4', 'Wave_b2_20231211_part_30.mp4', 'Wave_b2_20231211_part_24.mp4', 'Wave_b2_20231211_part_29.mp4', 'Wave_b2_20231211_part_1.mp4', 'Wave_b2_20231211_part_15.mp4', 'Wave-Complex_20231211_part_5.mp4', 'Wave-Complex_20231211_part_4.mp4', 'Wave_b2_20231211_part_14.mp4', 'Wave_b2_20231211_part_28.mp4', 'Wave_b2_20231211_part_16.mp4', 'Wave_b2_20231211_part_2.mp4', 'Wave-Complex_20231211_part_6.mp4', 'Wave-Complex_20231211_part_7.mp4', 'Wave_b2_20231211_part_3.mp4', 'Wave_b2_20231211_part_17.mp4', 'Wave_b2_20231211_part_13.mp4', 'Wave_b2_20231211_part_7.mp4', 'Wave-Complex_20231211_part_3.mp4', 'Wave-Complex_20231211_part_2.mp4', 'Wave_b2_20231211_part_6.mp4', 'Wave_b2_20231211_part_12.mp4', 'Wave_b2_20231211_part_4.mp4', 'Wave_b2_20231211_part_10.mp4', 'Wave-Complex_20231211_part_1.mp4', 'Wave_b2_20231211_part_11.mp4', 'Wave_b2_20231211_part_5.mp4', 'Wave-Complex_20231211_part_12.mp4', 'Wave_20231211_part_17.mp4', 'Wave_20231211_part_16.mp4', 'Wave-Complex_20231211_part_13.mp4', 'Wave-Complex_20231211_part_11.mp4', 'Wave_20231211_part_14.mp4', 'Wave_20231211_part_8.mp4', 'Wave_20231211_part_9.mp4', 'Wave_20231211_part_15.mp4', 'Wave-Complex_20231211_part_10.mp4', 'Wave_20231211_part_11.mp4', 'Wave-Complex_20231211_part_14.mp4', 'Wave-Complex_20231211_part_15.mp4', 'Wave_20231211_part_10.mp4', 'Wave_20231211_part_12.mp4', 'Wave-Complex_20231211_part_17.mp4', 'Wave-Complex_20231211_part_16.mp4', 'Wave_20231211_part_13.mp4']\n",
      "Number of Files detected in pointing: 70 || ['Point-Complex_20231211_part_17.mp4', 'Point-Complex_20231211_part_1.mp4', 'Point_b2_20231211_part_17.mp4', 'Point_b2_20231211_part_16.mp4', 'Point-Complex_20231211_part_16.mp4', 'Point_20231211_part_16.mp4', 'Point_20231211_part_14.mp4', 'Point-Complex_20231211_part_14.mp4', 'Point_b2_20231211_part_28.mp4', 'Point-Complex_20231211_part_2.mp4', 'Point_b2_20231211_part_14.mp4', 'Point_b2_20231211_part_15.mp4', 'Point-Complex_20231211_part_3.mp4', 'Point_b2_20231211_part_29.mp4', 'Point-Complex_20231211_part_15.mp4', 'Point_20231211_part_15.mp4', 'Point_20231211_part_11.mp4', 'Point-Complex_20231211_part_11.mp4', 'Point-Complex_20231211_part_7.mp4', 'Point_b2_20231211_part_11.mp4', 'Point_b2_20231211_part_10.mp4', 'Point-Complex_20231211_part_6.mp4', 'Point-Complex_20231211_part_10.mp4', 'Point_20231211_part_10.mp4', 'Point_b2_20231211_part_8.mp4', 'Point_20231211_part_12.mp4', 'Point-Complex_20231211_part_12.mp4', 'Point-Complex_20231211_part_4.mp4', 'Point_b2_20231211_part_12.mp4', 'Point_b2_20231211_part_13.mp4', 'Point-Complex_20231211_part_5.mp4', 'Point-Complex_20231211_part_13.mp4', 'Point_20231211_part_13.mp4', 'Point_b2_20231211_part_9.mp4', 'Point_20231211_part_6.mp4', 'Point_20231211_part_7.mp4', 'Point_20231211_part_5.mp4', 'Point_20231211_part_4.mp4', 'Point_20231211_part_1.mp4', 'Point_20231211_part_3.mp4', 'Point_20231211_part_2.mp4', 'Point_20231211_part_9.mp4', 'Point_20231211_part_8.mp4', 'Point_b2_20231211_part_4.mp4', 'Point-Complex_20231211_part_8.mp4', 'Point_b2_20231211_part_22.mp4', 'Point_b2_20231211_part_23.mp4', 'Point-Complex_20231211_part_9.mp4', 'Point_b2_20231211_part_5.mp4', 'Point_b2_20231211_part_7.mp4', 'Point_b2_20231211_part_21.mp4', 'Point_b2_20231211_part_20.mp4', 'Point_b2_20231211_part_34.mp4', 'Point-Complex_20231211_part_20.mp4', 'Point_b2_20231211_part_6.mp4', 'Point_b2_20231211_part_2.mp4', 'Point-Complex_20231211_part_18.mp4', 'Point_b2_20231211_part_30.mp4', 'Point_b2_20231211_part_24.mp4', 'Point_b2_20231211_part_18.mp4', 'Point_b2_20231211_part_19.mp4', 'Point_b2_20231211_part_25.mp4', 'Point_b2_20231211_part_31.mp4', 'Point-Complex_20231211_part_19.mp4', 'Point_b2_20231211_part_3.mp4', 'Point_b2_20231211_part_1.mp4', 'Point_b2_20231211_part_27.mp4', 'Point_b2_20231211_part_33.mp4', 'Point_b2_20231211_part_32.mp4', 'Point_b2_20231211_part_26.mp4']\n",
      "Number of Files detected in other: 74 || ['Other_20231211_part_11.mp4', 'Other_20231211_part_8.mp4', 'Other_b2_20231211_part_12.mp4', 'Other_b2_20231211_part_13.mp4', 'Other_20231211_part_9.mp4', 'Other_20231211_part_10.mp4', 'Other_20231211_part_12.mp4', 'Other_b2_20231211_part_11.mp4', 'Other_b2_20231211_part_10.mp4', 'Other_20231211_part_13.mp4', 'Other_20231211_part_17.mp4', 'Other-Complex_20231211_part_19.mp4', 'Other_b2_20231211_part_14.mp4', 'Other_b2_20231211_part_28.mp4', 'Other_b2_20231211_part_29.mp4', 'Other_b2_20231211_part_15.mp4', 'Other-Complex_20231211_part_18.mp4', 'Other_20231211_part_16.mp4', 'Other_20231211_part_14.mp4', 'Other_b2_20231211_part_17.mp4', 'Other_b2_20231211_part_16.mp4', 'Other_20231211_part_15.mp4', 'Other-Complex_20231211_part_7.mp4', 'Other_b2_20231211_part_1.mp4', 'Other-Complex_20231211_part_6.mp4', 'Other-Complex_20231211_part_4.mp4', 'Other_b2_20231211_part_3.mp4', 'Other_b2_20231211_part_2.mp4', 'Other-Complex_20231211_part_5.mp4', 'Other-Complex_20231211_part_1.mp4', 'Other_b2_20231211_part_6.mp4', 'Other_b2_20231211_part_7.mp4', 'Other-Complex_20231211_part_2.mp4', 'Other_b2_20231211_part_5.mp4', 'Other_b2_20231211_part_4.mp4', 'Other-Complex_20231211_part_3.mp4', 'Other_b2_20231211_part_9.mp4', 'Other_b2_20231211_part_8.mp4', 'Other-Complex_20231211_part_8.mp4', 'Other-Complex_20231211_part_9.mp4', 'Other_20231211_part_18.mp4', 'Other-Complex_20231211_part_16.mp4', 'Other_20231211_part_1.mp4', 'Other_b2_20231211_part_27.mp4', 'Other_b2_20231211_part_33.mp4', 'Other_b2_20231211_part_32.mp4', 'Other_b2_20231211_part_26.mp4', 'Other-Complex_20231211_part_17.mp4', 'Other_20231211_part_19.mp4', 'Other-Complex_20231211_part_15.mp4', 'Other_20231211_part_2.mp4', 'Other_b2_20231211_part_18.mp4', 'Other_b2_20231211_part_30.mp4', 'Other_b2_20231211_part_24.mp4', 'Other_b2_20231211_part_25.mp4', 'Other_b2_20231211_part_31.mp4', 'Other_b2_20231211_part_19.mp4', 'Other_20231211_part_3.mp4', 'Other-Complex_20231211_part_14.mp4', 'Other-Complex_20231211_part_10.mp4', 'Other_20231211_part_7.mp4', 'Other_b2_20231211_part_35.mp4', 'Other_b2_20231211_part_21.mp4', 'Other_b2_20231211_part_20.mp4', 'Other_b2_20231211_part_34.mp4', 'Other_20231211_part_6.mp4', 'Other-Complex_20231211_part_11.mp4', 'Other-Complex_20231211_part_13.mp4', 'Other_20231211_part_4.mp4', 'Other_b2_20231211_part_22.mp4', 'Other_b2_20231211_part_23.mp4', 'Other_20231211_part_5.mp4', 'Other-Complex_20231211_part_12.mp4', 'Other_20231211_part_20.mp4']\n"
     ]
    }
   ],
   "source": [
    "video_files_paths = []\n",
    "labels = []\n",
    "for class_folder in classes:\n",
    "    directory_contents = os.listdir(os.path.join(root_dir,class_folder))\n",
    "    directory_contents = remove_non_video_files(directory_contents)\n",
    "    print(\"Number of Files detected in {}: {} || {}\".format(class_folder, len(directory_contents), directory_contents))\n",
    "    video_files_paths.extend([os.path.join(class_folder,video_file) for video_file in directory_contents])\n",
    "    labels.extend([class_to_idx[class_folder]] * len(directory_contents))\n",
    "\n",
    "df = pd.DataFrame.from_dict({'path':video_files_paths, 'label':labels})\n",
    "    "
   ]
  },
  {
   "cell_type": "code",
   "execution_count": 31,
   "metadata": {},
   "outputs": [],
   "source": [
    "df.to_csv(os.path.join(root_dir,output_file_name),index=False)"
   ]
  }
 ],
 "metadata": {
  "kernelspec": {
   "display_name": "deep-learning",
   "language": "python",
   "name": "python3"
  },
  "language_info": {
   "codemirror_mode": {
    "name": "ipython",
    "version": 3
   },
   "file_extension": ".py",
   "mimetype": "text/x-python",
   "name": "python",
   "nbconvert_exporter": "python",
   "pygments_lexer": "ipython3",
   "version": "3.8.18"
  }
 },
 "nbformat": 4,
 "nbformat_minor": 2
}
